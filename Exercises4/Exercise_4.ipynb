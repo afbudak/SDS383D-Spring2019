{
 "cells": [
  {
   "cell_type": "markdown",
   "metadata": {},
   "source": [
    "# Hierarchical Models"
   ]
  },
  {
   "cell_type": "code",
   "execution_count": 401,
   "metadata": {},
   "outputs": [],
   "source": [
    "import pandas as pd\n",
    "import numpy as np\n",
    "import scipy as sp\n",
    "import math\n",
    "import matplotlib.pyplot as plt"
   ]
  },
  {
   "cell_type": "markdown",
   "metadata": {},
   "source": [
    "### Math Test"
   ]
  },
  {
   "cell_type": "code",
   "execution_count": 403,
   "metadata": {},
   "outputs": [],
   "source": [
    "math_df = pd.read_csv('Data/mathtest.csv')"
   ]
  },
  {
   "cell_type": "code",
   "execution_count": 404,
   "metadata": {},
   "outputs": [],
   "source": [
    "mean_by_school = math_df.groupby('school').mean()\n",
    "count_by_school = math_df.groupby('school').count()\n",
    "school_group_count = len(count_by_school)\n",
    "total_numof_data = len(math_df)\n",
    "aggregate_mean = data.values.mean(axis = 0)[1]"
   ]
  },
  {
   "cell_type": "code",
   "execution_count": 405,
   "metadata": {},
   "outputs": [
    {
     "data": {
      "image/png": "[encoded data removed]",
      "text/plain": [
       "<Figure size 432x288 with 1 Axes>"
      ]
     },
     "metadata": {
      "needs_background": "light"
     },
     "output_type": "display_data"
    }
   ],
   "source": [
    "plt.scatter(count_by_school,mean_by_school)\n",
    "plt.xlabel('School\\'s Sample Size')\n",
    "plt.ylabel('Mean Test Score')\n",
    "plt.show()"
   ]
  },
  {
   "cell_type": "markdown",
   "metadata": {},
   "source": [
    "We observe that the schools with fewer student data have higher variance\n",
    "##### MCMC"
   ]
  },
  {
   "cell_type": "markdown",
   "metadata": {},
   "source": [
    "Let us fit a normal hierarchical model to Mathtest dataset using Gibbs\n",
    "Priors for unknown parameters are:\n",
    "$$\n",
    "\\begin{aligned}\\left(y_{i} | \\theta_{i}, \\sigma^{2}\\right) & \\sim N\\left(\\theta_{i}, \\sigma^{2}\\right) \\\\\\left(\\theta_{i} | \\mu, \\sigma^{2}, \\tau^{2}\\right) & \\sim N\\left(\\mu, \\sigma^{2} \\tau^{2}\\right) \\\\ \\mu & \\sim I_{\\mathbb{R}}(\\mu), \\text { a flat prior} \\\\ \\tau^{2} & \\sim I_{\\mathbb{R}^{+}}\\left(\\tau^{2}\\right), \\text { a flat prior} \\\\ \\sigma^{2} & \\sim\\left(\\frac{1}{\\sigma^{2}}\\right) I_{\\mathbb{R}^{+}}\\left(\\sigma^{2}\\right), \\text { Jeffreys prior } \\end{aligned}\n",
    "$$"
   ]
  },
  {
   "cell_type": "markdown",
   "metadata": {},
   "source": [
    "$$\n",
    "\\begin{aligned}\\left(\\theta_{i} | y, \\mu, \\sigma^{2}, \\tau^{2}\\right) & \\sim N\\left(m^{*}, v^{*}\\right) \\\\ & \\text { with } \\\\ v^{*} &=\\left[\\frac{n_{i}}{\\sigma^{2}}+\\frac{1}{\\sigma^{2} \\tau^{2}}\\right]^{-1}=\\left[\\frac{n_{i} \\tau^{2}+1}{\\sigma^{2} \\tau^{2}}\\right]^{-1}=\\sigma^{2}\\left[\\frac{\\tau^{2}}{n_{i} \\tau^{2}+1}\\right] \\\\ m^{*} &=v^{*}\\left[\\left(\\frac{n_{i}}{\\sigma^{2}}\\right) \\overline{y}_{i}+\\left(\\frac{1}{\\sigma^{2} \\tau^{2}}\\right) \\mu\\right] \\end{aligned}\n",
    "$$\n",
    "$$\n",
    "\\begin{aligned}\\left(\\mu | \\theta, y, \\sigma^{2}, \\tau^{2}\\right) \\sim N\\left(\\overline{\\theta}_{i}, \\frac{\\sigma^{2} \\tau^{2}}{p}\\right)\\; \\; \\;\\; \\; \\;\\; \\; \\;\\; \\; \\;\\; \\; \\;\\; \\; \\;\\; \\; \\;\\; \\; \\;\\; \\; \\;\\; \\; \\;\\; \\; \\;\\; \\; \\;\\; \\; \\;\\; \\; \\;\\; \\; \\;\\; \\; \\;\\; \\; \\;\\; \\; \\;\\end{aligned}\n",
    "$$\n",
    "$$\n",
    " \\; \\;\\; \\; \\;\\; \\; \\;\\; \\; \\;\\;\\left(\\sigma^{2} | \\theta, y, \\mu, \\tau^{2}\\right) \\sim I G\\left(\\frac{(n+p)}{2},\\left\\{\\frac{1}{2} \\sum_{i=1}^{p} \\sum_{j=1}^{n_{i}}\\left(y_{i j}-\\theta_{i}\\right)^{2}+\\frac{1}{2 \\tau^{2}} \\sum_{i=1}^{p}\\left(\\theta_{i}-\\mu\\right)^{2}\\right\\}\\right)\n",
    "$$\n",
    "$$\n",
    "\\left(\\tau^{2} | \\theta, y, \\mu, \\sigma^{2}\\right) \\sim I G\\left(\\frac{p}{2}-1, \\frac{1}{2 \\sigma^{2}} \\sum_{i=1}^{p}\\left(\\theta_{i}-\\mu\\right)^{2}\\right)\\; \\;\\; \\; \\;\\; \\; \\;\\; \\; \\;\\;\\; \\;\\; \\; \\;\\; \\; \\;\\; \\; \\;\\;\\; \\;\\; \\; \\;\\;\n",
    "$$"
   ]
  },
  {
   "cell_type": "markdown",
   "metadata": {},
   "source": [
    "Initiations for Monte Carlo Sims"
   ]
  },
  {
   "cell_type": "code",
   "execution_count": 406,
   "metadata": {},
   "outputs": [],
   "source": [
    "iterations = 10000\n",
    "sigmasq = np.zeros(iterations+1)\n",
    "tausq = np.zeros(iterations+1)\n",
    "mu = np.zeros(iterations+1)\n",
    "theta = np.zeros((school_group_count, iterations+1))\n",
    "sigmasq[0] = 1\n",
    "tausq[0] = 1\n",
    "mu[0] = aggregate_mean\n",
    "theta[:,0] = mean_by_school.values[:,0]"
   ]
  },
  {
   "cell_type": "code",
   "execution_count": 407,
   "metadata": {},
   "outputs": [],
   "source": [
    "for i in range(iterations):\n",
    "    vstar = (sigmasq[i]*tausq[i]) / (count_by_school.values*tausq[i] + 1)\n",
    "    mstar = vstar * ( count_by_school.values*mean_by_school.values/sigmasq[i] + mu[i]/(sigmasq[i]*tausq[i]) )\n",
    "    theta[:,i+1] = np.random.normal(mstar,vstar)[:,0]\n",
    "    mu[i+1] = np.random.normal(np.mean(theta[:,i+1]),sigmasq[i]*tausq[i]/school_group_count)\n",
    "    schoolindexes = math_df.values[:,0].astype(int) - 1\n",
    "    sum1 = np.sum( np.square((math_df.values[:,1]-theta[schoolindexes,i+1])))\n",
    "    sum2 = np.sum( np.square(theta[:,i+1] - mu[i+1]) )\n",
    "    sigmasq[i+1] = 1 / np.random.gamma( (total_numof_data+school_group_count)/2 , 1/(0.5*(sum1 + sum2/tausq[i])) )\n",
    "    tausq[i+1] = 1 / np.random.gamma( 0.5*school_group_count-1 , 1/(0.5*(sum2/sigmasq[i+1])) )"
   ]
  },
  {
   "cell_type": "code",
   "execution_count": 408,
   "metadata": {},
   "outputs": [],
   "source": [
    "#Burn Beginning Observations\n",
    "burn = 1000\n",
    "theta = theta[:,burn:-1]\n",
    "mu = mu[burn:-1]\n",
    "sigmasq = sigmasq[burn:-1]\n",
    "tausq = tausq[burn:-1]\n",
    "#Thin the data\n",
    "thin = 2\n",
    "slicedindex = range(0,len(tausq),thin)\n",
    "theta = theta[:,slicedindex]\n",
    "mu = mu[slicedindex]\n",
    "sigmasq = sigmasq[slicedindex]\n",
    "tausq = tausq[slicedindex]"
   ]
  },
  {
   "cell_type": "code",
   "execution_count": 440,
   "metadata": {},
   "outputs": [
    {
     "data": {
      "image/png": "[encoded data removed]",
      "text/plain": [
       "<Figure size 432x288 with 1 Axes>"
      ]
     },
     "metadata": {
      "needs_background": "light"
     },
     "output_type": "display_data"
    }
   ],
   "source": [
    "post_mean = np.mean(theta,1)\n",
    "ki = abs((post_mean-mean_by_school.values[:,0])/mean_by_school.values[:,0])\n",
    "x_ki = list(range(1,len(ki)+1))\n",
    "plt.scatter(count_by_school.values[:,0],ki,c='r')\n",
    "#plt.scatter([1],[5])\n",
    "axes = plt.gca()\n",
    "axes.set_ylim([-0.001,0.1])\n",
    "plt.xlabel('School\\'s Sample Size')\n",
    "plt.ylabel('Shrinkage Coefficient')\n",
    "plt.show()"
   ]
  },
  {
   "cell_type": "markdown",
   "metadata": {},
   "source": [
    "### Price Elasticity of Demand"
   ]
  },
  {
   "cell_type": "code",
   "execution_count": null,
   "metadata": {},
   "outputs": [],
   "source": []
  }
 ],
 "metadata": {
  "kernelspec": {
   "display_name": "Python 3",
   "language": "python",
   "name": "python3"
  },
  "language_info": {
   "codemirror_mode": {
    "name": "ipython",
    "version": 3
   },
   "file_extension": ".py",
   "mimetype": "text/x-python",
   "name": "python",
   "nbconvert_exporter": "python",
   "pygments_lexer": "ipython3",
   "version": "3.7.3"
  }
 },
 "nbformat": 4,
 "nbformat_minor": 2
}
